{
 "cells": [
  {
   "cell_type": "code",
   "execution_count": null,
   "metadata": {},
   "outputs": [],
   "source": [
    "def Test101(data):\n",
    "    sum = 0\n",
    "    max_value = 0\n",
    "    for item in data:\n",
    "        if max_value < item['value']:\n",
    "            max_value = item['value']\n",
    "        sum += 1\n",
    "    \n",
    "    return sum, max_value"
   ]
  }
 ],
 "metadata": {
  "language_info": {
   "name": "python"
  },
  "orig_nbformat": 4
 },
 "nbformat": 4,
 "nbformat_minor": 2
}
