{
 "cells": [
  {
   "cell_type": "code",
   "execution_count": null,
   "metadata": {},
   "outputs": [],
   "source": [
    "def Test1():\n",
    "    a = 20\n",
    "    b = 30\n",
    "    for i in range(1, 30):\n",
    "        a = a+b\n",
    "    \n",
    "    b = a-b\n",
    "    print(b)"
   ]
  }
 ],
 "metadata": {
  "language_info": {
   "name": "python"
  },
  "orig_nbformat": 4
 },
 "nbformat": 4,
 "nbformat_minor": 2
}
