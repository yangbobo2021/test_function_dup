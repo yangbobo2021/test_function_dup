{
 "cells": [
  {
   "cell_type": "code",
   "execution_count": null,
   "metadata": {},
   "outputs": [],
   "source": [
    "def Test66(x, y):\n",
    "    if x>20:\n",
    "        for x in range(1, 50):\n",
    "            print(x)\n",
    "        x += 30\n",
    "    else:\n",
    "        while x<=50:\n",
    "            print(x)\n",
    "            x += 1\n",
    "        x += 30\n",
    "    return x"
   ]
  }
 ],
 "metadata": {
  "language_info": {
   "name": "python"
  },
  "orig_nbformat": 4
 },
 "nbformat": 4,
 "nbformat_minor": 2
}
